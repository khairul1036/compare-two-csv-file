{
  "nbformat": 4,
  "nbformat_minor": 0,
  "metadata": {
    "colab": {
      "provenance": []
    },
    "kernelspec": {
      "name": "python3",
      "display_name": "Python 3"
    },
    "language_info": {
      "name": "python"
    }
  },
  "cells": [
    {
      "cell_type": "code",
      "execution_count": 16,
      "metadata": {
        "colab": {
          "base_uri": "https://localhost:8080/"
        },
        "id": "a81E5O4TYxyU",
        "outputId": "3763cc0f-010d-41d6-9068-8f0558be166b"
      },
      "outputs": [
        {
          "output_type": "stream",
          "name": "stdout",
          "text": [
            "Accuracy: 40.0000%\n"
          ]
        }
      ],
      "source": [
        "# compare main file and submission file and give accuracy\n",
        "\n",
        "import csv\n",
        "\n",
        "def read_csv(file_path):\n",
        "    data = []\n",
        "    with open(file_path, 'r') as file:\n",
        "        reader = csv.reader(file)\n",
        "        for row in reader:\n",
        "            data.append(row)\n",
        "    return data\n",
        "\n",
        "def compare_csv(mainfile_path, file2_path):\n",
        "    file1_data = read_csv(mainfile_path)\n",
        "    file2_data = read_csv(submissionfile_path)\n",
        "\n",
        "    if len(file1_data) != len(file2_data):\n",
        "        return \"Files have different lengths\"\n",
        "\n",
        "    correct_count = 0\n",
        "    total_count = len(file1_data)\n",
        "\n",
        "    for row1, row2 in zip(file1_data, file2_data):\n",
        "        if row1 == row2:\n",
        "            correct_count += 1\n",
        "\n",
        "    accuracy = correct_count / total_count * 100\n",
        "    return f\"Accuracy: {accuracy:.4f}%\"\n",
        "\n",
        "mainfile_path = '/content/main.csv' # insert main file\n",
        "submissionfile_path = '/content/submission.csv' # insert submission file\n",
        "\n",
        "accuracy = compare_csv(mainfile_path, submissionfile_path)\n",
        "print(accuracy)\n"
      ]
    }
  ]
}